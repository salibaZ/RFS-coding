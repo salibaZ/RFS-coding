{
  "nbformat": 4,
  "nbformat_minor": 0,
  "metadata": {
    "colab": {
      "provenance": []
    },
    "kernelspec": {
      "name": "python3",
      "display_name": "Python 3"
    },
    "language_info": {
      "name": "python"
    }
  },
  "cells": [
    {
      "cell_type": "code",
      "execution_count": 1,
      "metadata": {
        "id": "nsI1uW68roJj"
      },
      "outputs": [],
      "source": [
        "# import a module, we learnt this two sessions ago\n",
        "import tensorflow as tf"
      ]
    },
    {
      "cell_type": "markdown",
      "source": [
        "Today, we will build a Neural Network to help us predict what number is written on a piece of paper.\n",
        "\n",
        "While we could ask 60,000 people for this data, MNIST has already done this."
      ],
      "metadata": {
        "id": "l6kKVc4ytzQi"
      }
    },
    {
      "cell_type": "code",
      "source": [
        "# import/pull mnist numbers dataset from tensorflow\n",
        "mnist = tf.keras.datasets.mnist"
      ],
      "metadata": {
        "id": "5DqBRpHQuOvJ"
      },
      "execution_count": 2,
      "outputs": []
    },
    {
      "cell_type": "markdown",
      "source": [
        "We start with training. We end with testing. We will split the 60,000 data points into training and testing sets of data."
      ],
      "metadata": {
        "id": "a6l2wU02uwdm"
      }
    },
    {
      "cell_type": "code",
      "source": [
        "# allocate training/testing split\n",
        "(x_train, y_train), (x_test, y_test) = mnist.load_data()\n",
        "x_train, x_test = x_train / 255.0, x_test / 255.0\n",
        "print(x_train.shape)\n",
        "print(x_test.shape)"
      ],
      "metadata": {
        "colab": {
          "base_uri": "https://localhost:8080/"
        },
        "id": "N_spsPxYugOv",
        "outputId": "3073b815-072f-47b8-ed56-aa4e03e85241"
      },
      "execution_count": 3,
      "outputs": [
        {
          "output_type": "stream",
          "name": "stdout",
          "text": [
            "Downloading data from https://storage.googleapis.com/tensorflow/tf-keras-datasets/mnist.npz\n",
            "11490434/11490434 [==============================] - 1s 0us/step\n",
            "(60000, 28, 28)\n",
            "(10000, 28, 28)\n"
          ]
        }
      ]
    },
    {
      "cell_type": "markdown",
      "source": [
        "Now, let's examine how we will look at and study each number. Images of numbers will be mapped by pixel to a graph. The images are 256 x 256 pixels, but for ease of processing, we use 255 x 255."
      ],
      "metadata": {
        "id": "ak5apOsbvyXo"
      }
    },
    {
      "cell_type": "code",
      "source": [
        "import matplotlib.pyplot as plt\n",
        "%matplotlib inline\n",
        "\n",
        "# choose an image from the training set\n",
        "image_num = 365\n",
        "\n",
        "# graph the image specified\n",
        "plt.imshow(x_train[image_num], cmap=\"Greys\")\n",
        "print(y_train[image_num])"
      ],
      "metadata": {
        "colab": {
          "base_uri": "https://localhost:8080/",
          "height": 447
        },
        "id": "_ula4unCwLU2",
        "outputId": "eff5253a-c179-45ee-ec72-6baade6dc38c"
      },
      "execution_count": 5,
      "outputs": [
        {
          "output_type": "stream",
          "name": "stdout",
          "text": [
            "2\n"
          ]
        },
        {
          "output_type": "display_data",
          "data": {
            "text/plain": [
              "<Figure size 640x480 with 1 Axes>"
            ],
            "image/png": "[encoded data removed]"
          },
          "metadata": {}
        }
      ]
    },
    {
      "cell_type": "markdown",
      "source": [
        "The three steps in tensorflow to develop a neural network are as follows:\n",
        "1.   Set up the layers architecture\n",
        "2.   Specify the objective function to optimize\n",
        "3.   Run the 'model.fit' function to train our model with our training data\n",
        "\n",
        "We will conduct these steps below...\n",
        "\n"
      ],
      "metadata": {
        "id": "OK2WbIH2x9J6"
      }
    },
    {
      "cell_type": "code",
      "source": [
        "model = tf.keras.models.Sequential([\n",
        "    tf.keras.layers.Flatten(input_shape=(28, 28)),\n",
        "    tf.keras.layers.Dense(128, activation=\"relu\"),\n",
        "    tf.keras.layers.Dropout(0.2),\n",
        "    tf.keras.layers.Dense(10, activation=\"softmax\")\n",
        "])"
      ],
      "metadata": {
        "id": "duI74EMMyr08"
      },
      "execution_count": 7,
      "outputs": []
    },
    {
      "cell_type": "code",
      "source": [
        "# we want to reward computer for being right and punish it for being wrong\n",
        "model.compile(\n",
        "    optimizer=\"adam\",\n",
        "    loss=\"sparse_categorical_crossentropy\",\n",
        "    metrics=[\"accuracy\"]\n",
        ")"
      ],
      "metadata": {
        "id": "ltU5X3W5zaUN"
      },
      "execution_count": 8,
      "outputs": []
    },
    {
      "cell_type": "code",
      "source": [
        "# making correlations and deductions about relation between picture and its label\n",
        "model.fit(x_train, y_train, epochs=5)"
      ],
      "metadata": {
        "colab": {
          "base_uri": "https://localhost:8080/"
        },
        "id": "YNaurriX0LOD",
        "outputId": "7ab26726-7b6e-4cf9-c620-0c88efbbd79d"
      },
      "execution_count": 9,
      "outputs": [
        {
          "output_type": "stream",
          "name": "stdout",
          "text": [
            "Epoch 1/5\n",
            "1875/1875 [==============================] - 10s 5ms/step - loss: 0.2938 - accuracy: 0.9139\n",
            "Epoch 2/5\n",
            "1875/1875 [==============================] - 9s 5ms/step - loss: 0.1454 - accuracy: 0.9574\n",
            "Epoch 3/5\n",
            "1875/1875 [==============================] - 10s 5ms/step - loss: 0.1092 - accuracy: 0.9673\n",
            "Epoch 4/5\n",
            "1875/1875 [==============================] - 9s 5ms/step - loss: 0.0898 - accuracy: 0.9718\n",
            "Epoch 5/5\n",
            "1875/1875 [==============================] - 9s 5ms/step - loss: 0.0765 - accuracy: 0.9758\n"
          ]
        },
        {
          "output_type": "execute_result",
          "data": {
            "text/plain": [
              "<keras.callbacks.History at 0x79756a9533d0>"
            ]
          },
          "metadata": {},
          "execution_count": 9
        }
      ]
    },
    {
      "cell_type": "markdown",
      "source": [
        "Let's analyze and evaluate our test results."
      ],
      "metadata": {
        "id": "gNrPNIa41Dcy"
      }
    },
    {
      "cell_type": "code",
      "source": [
        "# this will show us our test results\n",
        "model.evaluate(x_test, y_test, verbose=0)"
      ],
      "metadata": {
        "colab": {
          "base_uri": "https://localhost:8080/"
        },
        "id": "pXHKNWO31ISJ",
        "outputId": "43969eb6-af99-45e5-aae3-d08cd449701b"
      },
      "execution_count": 10,
      "outputs": [
        {
          "output_type": "execute_result",
          "data": {
            "text/plain": [
              "[0.06915285438299179, 0.977400004863739]"
            ]
          },
          "metadata": {},
          "execution_count": 10
        }
      ]
    },
    {
      "cell_type": "markdown",
      "source": [
        "To explore these values further...\n",
        "*   List item 1: loss value (penalty for a bad prediction, which decreases as our accuracy increases as we want to deviate less from the current result at high accuracies)\n",
        "*   List item 2: accuracy of our prediction as compared to its label\n",
        "\n"
      ],
      "metadata": {
        "id": "DWLvPHFR1UwA"
      }
    },
    {
      "cell_type": "markdown",
      "source": [
        "Now, we define a function to read in an image index and show the image, show the prediction results, and check whether the prediction is correct."
      ],
      "metadata": {
        "id": "PZlWUkMV2Csl"
      }
    },
    {
      "cell_type": "code",
      "source": [
        "def checkPrediction(image_index):\n",
        "  plt.imshow(x_test[image_index].reshape(28, 28), cmap=\"Greys\")\n",
        "  pred = model.predict(x_test[image_index].reshape(1, 28, 28))\n",
        "  pred_label = pred.argmax()\n",
        "  orig_label = y_test[image_index]\n",
        "  print(\"Original label is: \", orig_label)\n",
        "  print(\"ML model prediction is: \", pred_label)\n",
        "  if pred_label == orig_label:\n",
        "    print(\"Correct prediction!\")\n",
        "  else:\n",
        "    print(\"Wrong prediciton.\")"
      ],
      "metadata": {
        "id": "92Gepkok2QQv"
      },
      "execution_count": 11,
      "outputs": []
    },
    {
      "cell_type": "code",
      "source": [
        "checkPrediction(720)"
      ],
      "metadata": {
        "colab": {
          "base_uri": "https://localhost:8080/",
          "height": 499
        },
        "id": "BfQKms543JiZ",
        "outputId": "87559dc1-86f9-419b-975c-18ec05fab110"
      },
      "execution_count": 17,
      "outputs": [
        {
          "output_type": "stream",
          "name": "stdout",
          "text": [
            "1/1 [==============================] - 0s 25ms/step\n",
            "Original label is:  5\n",
            "ML model prediction is:  8\n",
            "Wrong prediciton.\n"
          ]
        },
        {
          "output_type": "display_data",
          "data": {
            "text/plain": [
              "<Figure size 640x480 with 1 Axes>"
            ],
            "image/png": "[encoded data removed]"
          },
          "metadata": {}
        }
      ]
    }
  ]
}